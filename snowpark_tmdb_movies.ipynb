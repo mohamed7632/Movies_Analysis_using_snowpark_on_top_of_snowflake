{
 "cells": [
  {
   "cell_type": "code",
   "execution_count": 1,
   "id": "52fad414",
   "metadata": {},
   "outputs": [],
   "source": [
    "from snowflake.snowpark.session import Session\n",
    "from snowflake.snowpark.types import IntegerType, FloatType\n",
    "from snowflake.snowpark.functions import avg, sum, col, udf, call_udf, call_builtin, year,is_null\n",
    "import pandas as pd\n",
    "from sqlalchemy import create_engine\n",
    "from snowflake.sqlalchemy import URL\n"
   ]
  },
  {
   "cell_type": "code",
   "execution_count": 2,
   "id": "2d13f2e3",
   "metadata": {},
   "outputs": [],
   "source": [
    "engine = create_engine(URL(\n",
    "    account='UCLSGAD-LY00738',\n",
    "    user = 'sherif1922',\n",
    "    password = 'Mohamed1922',\n",
    "    database = 'MOVIES',\n",
    "    schema = 'public',\n",
    "    warehouse = 'COMPUTE_WH',\n",
    "    role='ACCOUNTADMIN',\n",
    "))\n",
    "\n",
    "\n",
    "\n"
   ]
  },
  {
   "cell_type": "code",
   "execution_count": 3,
   "id": "61f624f4",
   "metadata": {},
   "outputs": [
    {
     "name": "stdout",
     "output_type": "stream",
     "text": [
      "7.16.1\n"
     ]
    }
   ],
   "source": [
    "\n",
    "connection = engine.connect()\n",
    "results = connection.execute('select current_version()').fetchone()\n",
    "print(results[0])\n"
   ]
  },
  {
   "cell_type": "code",
   "execution_count": 4,
   "id": "e357a1a5",
   "metadata": {},
   "outputs": [
    {
     "data": {
      "text/plain": [
       "<sqlalchemy.engine.cursor.LegacyCursorResult at 0x1d0aa9a29a0>"
      ]
     },
     "execution_count": 4,
     "metadata": {},
     "output_type": "execute_result"
    }
   ],
   "source": [
    "\n",
    "# read tmdb-movies data\n",
    "df =  pd.read_csv('tmdb-movies.csv')\n",
    "#specify the columns that I will use in the analysis process\n",
    "movies_df = df[['original_title','genres','director','popularity','vote_average','budget_adj','revenue_adj','release_year']]\n",
    "connection.execute(\"USE MOVIES\")\n",
    "#cur.execute(\"USE SCHEMA PUPLIC\")"
   ]
  },
  {
   "cell_type": "code",
   "execution_count": 5,
   "id": "6acd3b99",
   "metadata": {},
   "outputs": [
    {
     "data": {
      "text/plain": [
       "10866"
      ]
     },
     "execution_count": 5,
     "metadata": {},
     "output_type": "execute_result"
    }
   ],
   "source": [
    "\n",
    "# lading data to statging layer on snowflake\n",
    "if_exists = 'replace'\n",
    "table_name = 'movies'\n",
    "movies_df.to_sql(name=table_name.lower(), con=connection, index=False ,if_exists=if_exists)\n",
    "\n"
   ]
  },
  {
   "cell_type": "code",
   "execution_count": 6,
   "id": "b664a91c",
   "metadata": {},
   "outputs": [],
   "source": [
    "connection_parameters = {\n",
    "   \"account\": \"UCLSGAD-LY00738\",\n",
    "   \"user\": \"sherif1922\",\n",
    "   \"password\": \"Mohamed1922\",\n",
    "   \"warehouse\": \"compute_wh\",\n",
    "   \"role\": \"accountadmin\",\n",
    "   \"database\": \"MOVIES\",\n",
    "   \"schema\": \"PUBLIC\"\n",
    "}\n",
    "session = Session.builder.configs(connection_parameters).create()"
   ]
  },
  {
   "cell_type": "code",
   "execution_count": 7,
   "id": "243f29de",
   "metadata": {},
   "outputs": [
    {
     "name": "stdout",
     "output_type": "stream",
     "text": [
      "\"MOVIES\"\n"
     ]
    }
   ],
   "source": [
    "current_db = session.get_current_database()\n",
    "print(current_db)"
   ]
  },
  {
   "cell_type": "code",
   "execution_count": 11,
   "id": "82d4d1b5",
   "metadata": {},
   "outputs": [],
   "source": [
    "movies_df = session.table('movies')"
   ]
  },
  {
   "cell_type": "code",
   "execution_count": 12,
   "id": "e0cf920f",
   "metadata": {},
   "outputs": [
    {
     "name": "stdout",
     "output_type": "stream",
     "text": [
      "---------------------------------------------------------------------------------------------------------------------------------------------------------------------------------------\n",
      "|\"SUMMARY\"  |\"ORIGINAL_TITLE\"  |\"GENRES\"          |\"DIRECTOR\"                 |\"POPULARITY\"        |\"VOTE_AVERAGE\"      |\"BUDGET_ADJ\"       |\"REVENUE_ADJ\"       |\"RELEASE_YEAR\"      |\n",
      "---------------------------------------------------------------------------------------------------------------------------------------------------------------------------------------\n",
      "|count      |10866             |10843             |10822                      |10866.0             |10866.0             |10866.0            |10866.0             |10866.0             |\n",
      "|mean       |NULL              |NULL              |NULL                       |0.6464409519602429  |5.9749217743419845  |17551039.82288678  |51364363.25325097   |2001.322658         |\n",
      "|stddev     |NULL              |NULL              |NULL                       |1.0001849343093459  |0.9351418153269376  |34306155.72284369  |144632485.03997537  |12.812940568035115  |\n",
      "|min        |$5 a Day          |Action            | FrÃ©dÃ©ric Jardin         |6.5e-05             |1.5                 |0.0                |0.0                 |1960.0              |\n",
      "|max        |í•˜ìš¸ë§          |Western|Thriller  |Ã€lex Pastor|David Pastor  |32.985763           |9.2                 |425000000.0        |2827123750.41189    |2015.0              |\n",
      "---------------------------------------------------------------------------------------------------------------------------------------------------------------------------------------\n",
      "\n"
     ]
    }
   ],
   "source": [
    "movies_df.describe().show()"
   ]
  },
  {
   "cell_type": "code",
   "execution_count": 13,
   "id": "6d357a75",
   "metadata": {},
   "outputs": [],
   "source": [
    "movies_df = movies_df.dropDuplicates()"
   ]
  },
  {
   "cell_type": "code",
   "execution_count": 14,
   "id": "66ab8375",
   "metadata": {},
   "outputs": [
    {
     "name": "stdout",
     "output_type": "stream",
     "text": [
      "---------------------------------------------------------------------------------------------------------------------------------------------------------------------------------------\n",
      "|\"SUMMARY\"  |\"ORIGINAL_TITLE\"  |\"GENRES\"          |\"DIRECTOR\"                 |\"POPULARITY\"        |\"VOTE_AVERAGE\"      |\"BUDGET_ADJ\"        |\"REVENUE_ADJ\"       |\"RELEASE_YEAR\"     |\n",
      "---------------------------------------------------------------------------------------------------------------------------------------------------------------------------------------\n",
      "|count      |10865             |10842             |10821                      |10865.0             |10865.0             |10865.0             |10865.0             |10865.0            |\n",
      "|mean       |NULL              |NULL              |NULL                       |0.6464455549010584  |5.97501150483203    |17549894.037320547  |51369001.75884262   |2001.321859        |\n",
      "|stddev     |NULL              |NULL              |NULL                       |1.0002308502321762  |0.9351380715020834  |34307526.658364415  |144638333.12898582  |12.81325977259495  |\n",
      "|max        |í•˜ìš¸ë§          |Western|Thriller  |Ã€lex Pastor|David Pastor  |32.985763           |9.2                 |425000000.0         |2827123750.41189    |2015.0             |\n",
      "|min        |$5 a Day          |Action            | FrÃ©dÃ©ric Jardin         |6.5e-05             |1.5                 |0.0                 |0.0                 |1960.0             |\n",
      "---------------------------------------------------------------------------------------------------------------------------------------------------------------------------------------\n",
      "\n"
     ]
    }
   ],
   "source": [
    "movies_df.describe().show()"
   ]
  },
  {
   "cell_type": "code",
   "execution_count": 15,
   "id": "9033e98d",
   "metadata": {},
   "outputs": [],
   "source": [
    "movies_df =movies_df.dropna()"
   ]
  },
  {
   "cell_type": "code",
   "execution_count": 16,
   "id": "8a06785f",
   "metadata": {},
   "outputs": [
    {
     "name": "stdout",
     "output_type": "stream",
     "text": [
      "---------------------------------------------------------------------------------------------------------------------------------------------------------------------------------------\n",
      "|\"SUMMARY\"  |\"ORIGINAL_TITLE\"  |\"GENRES\"          |\"DIRECTOR\"                 |\"POPULARITY\"        |\"VOTE_AVERAGE\"      |\"BUDGET_ADJ\"       |\"REVENUE_ADJ\"       |\"RELEASE_YEAR\"      |\n",
      "---------------------------------------------------------------------------------------------------------------------------------------------------------------------------------------\n",
      "|count      |10800             |10800             |10800                      |10800.0             |10800.0             |10800.0            |10800.0             |10800.0             |\n",
      "|mean       |NULL              |NULL              |NULL                       |0.6494548775        |5.970879629629629   |17654371.81052634  |51677135.50526419   |2001.289537         |\n",
      "|stddev     |NULL              |NULL              |NULL                       |1.0024413405932058  |0.9330060013163451  |34384031.75912205  |145018221.34913105  |12.819545116734837  |\n",
      "|min        |$5 a Day          |Action            | FrÃ©dÃ©ric Jardin         |0.000188            |1.5                 |0.0                |0.0                 |1960.0              |\n",
      "|max        |í•˜ìš¸ë§          |Western|Thriller  |Ã€lex Pastor|David Pastor  |32.985763           |9.2                 |425000000.0        |2827123750.41189    |2015.0              |\n",
      "---------------------------------------------------------------------------------------------------------------------------------------------------------------------------------------\n",
      "\n"
     ]
    }
   ],
   "source": [
    "movies_df.describe().show()"
   ]
  },
  {
   "cell_type": "code",
   "execution_count": 17,
   "id": "8ebff3c8",
   "metadata": {},
   "outputs": [],
   "source": [
    "popular_movies = movies_df[['original_title','popularity']].sort(col('popularity'),ascending = False)\n",
    "popular_movies = popular_movies.limit(10)"
   ]
  },
  {
   "cell_type": "code",
   "execution_count": 20,
   "id": "14380e33",
   "metadata": {},
   "outputs": [],
   "source": [
    "popular_movies.write.mode(\"overwrite\").save_as_table(\"popular_movies\")"
   ]
  },
  {
   "cell_type": "markdown",
   "id": "ffda13fd",
   "metadata": {},
   "source": [
    "# #Top 10 rated movies"
   ]
  },
  {
   "cell_type": "code",
   "execution_count": 21,
   "id": "e4eb74c2",
   "metadata": {},
   "outputs": [],
   "source": [
    "movies_rate = movies_df[['original_title','vote_average']].sort(col('vote_average'),ascending = False)\n",
    "top_10_rated_movies = popular_movies.limit(10)"
   ]
  },
  {
   "cell_type": "code",
   "execution_count": 23,
   "id": "51a40323",
   "metadata": {},
   "outputs": [],
   "source": [
    "top_10_rated_movies.write.mode(\"overwrite\").save_as_table(\"top_rated_movies\")"
   ]
  },
  {
   "cell_type": "markdown",
   "id": "bfac6b2a",
   "metadata": {},
   "source": [
    "# top ten profitable movies"
   ]
  },
  {
   "cell_type": "code",
   "execution_count": 28,
   "id": "8147ce06",
   "metadata": {},
   "outputs": [],
   "source": [
    "movies_df = movies_df.with_column(\"profit\", (movies_df[\"revenue_adj\"] - movies_df[\"budget_adj\"]))"
   ]
  },
  {
   "cell_type": "code",
   "execution_count": 30,
   "id": "f931a9b2",
   "metadata": {},
   "outputs": [],
   "source": [
    "profitble_movies = movies_df[['original_title','profit']].sort(col('profit'),ascending = False)\n",
    "top_10_profitble_movies = profitble_movies.limit(10)"
   ]
  },
  {
   "cell_type": "code",
   "execution_count": 31,
   "id": "87363c0c",
   "metadata": {},
   "outputs": [],
   "source": [
    "top_10_profitble_movies.write.mode(\"overwrite\").save_as_table(\"PROFITABLE_MOVIES\")"
   ]
  }
 ],
 "metadata": {
  "kernelspec": {
   "display_name": "Python 3 (ipykernel)",
   "language": "python",
   "name": "python3"
  },
  "language_info": {
   "codemirror_mode": {
    "name": "ipython",
    "version": 3
   },
   "file_extension": ".py",
   "mimetype": "text/x-python",
   "name": "python",
   "nbconvert_exporter": "python",
   "pygments_lexer": "ipython3",
   "version": "3.8.16"
  }
 },
 "nbformat": 4,
 "nbformat_minor": 5
}
